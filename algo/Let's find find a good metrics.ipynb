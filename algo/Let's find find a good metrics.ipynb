{
 "cells": [
  {
   "cell_type": "code",
   "execution_count": null,
   "metadata": {
    "scrolled": false
   },
   "outputs": [],
   "source": [
    "import numpy as np\n",
    "import pandas\n",
    "from minigo import dao\n",
    "from glob import glob\n",
    "#[sorted(choice), 1 - drop, drop, meandrop, a, fitloss]\n",
    "\n",
    "def endValueDiff(s):\n",
    "    slope, b = np.polyfit(np.arange(len(s)), s, 1)\n",
    "    return s[-1] / ((len(s) - 1) * slope + b) - 1\n",
    "\n",
    "def fitLossAbsMax(s):\n",
    "    slope, b = np.polyfit(np.arange(len(s)), s, 1)\n",
    "    line = np.arange(len(s)) * slope + b\n",
    "    return np.abs(s / line - 1).max()\n",
    "    \n",
    "ret = {}\n",
    "for npy in glob('*_n.npy'):\n",
    "    day = npy.replace('_n.npy', '')\n",
    "    if day == '2008-08-04':\n",
    "        x = pandas.DataFrame(np.load('lasttime.npy', allow_pickle=True))\n",
    "    else:\n",
    "        x = pandas.DataFrame(np.load(npy, allow_pickle=True))\n",
    "    df = pandas.read_csv(day + '_d.csv', index_col=0)\n",
    "    print(day)\n",
    "    otherMetrics = []\n",
    "    for a in x.values:\n",
    "        s = dao.get_dpr(df.iloc[a[0]])[0].sum(axis=0) / len(a[0])\n",
    "        otherMetrics.append([endValueDiff(s), fitLossAbsMax(s)])\n",
    "\n",
    "    otherMetrics = pandas.DataFrame(otherMetrics)\n",
    "    otherMetrics.index = x.index\n",
    "    otherMetrics.columns = ['endValueDiff', 'fitLossAbsMax']\n",
    "    x = pandas.concat([x, otherMetrics], axis=1)\n",
    "\n",
    "    x = x[x['fitLossAbsMax'] < 0.01].sort_values(4).iloc[-1]\n",
    "    print(x['fitLossAbsMax'], x[4] * df.shape[1])\n",
    "    \n",
    "    stocks = df.index[x[0]].tolist()\n",
    "    dff = df.iloc[x[0]]\n",
    "    d, p, _, _ = dao.get_dpr(dff)\n",
    "    ret[day] = [list(map(lambda a: '@\"' + a.split(' ')[1][1:-2] + '\"@', stocks)), (p / p.sum()).tolist(), x[0], x[2], x[4]]"
   ]
  },
  {
   "cell_type": "code",
   "execution_count": null,
   "metadata": {
    "scrolled": false
   },
   "outputs": [],
   "source": [
    "str(ret).replace('\\'@', '').replace('@\\'', '').replace('\\'', '\"')"
   ]
  },
  {
   "cell_type": "code",
   "execution_count": null,
   "metadata": {},
   "outputs": [],
   "source": [
    "def demo(day):\n",
    "    df = pandas.read_csv(day + '_d.csv', index_col=0)\n",
    "    d,p,_,_=dao.get_dpr(df.iloc[ret[day][2]])\n",
    "    s = d.sum(axis=0) / 10\n",
    "    stat = dao.stat(s)\n",
    "    print(day, stat[0], stat[2] * len(s) / s[0] * 100, stat[3])\n",
    "    _, b = np.polyfit(np.arange(s.shape[0]), s, 1)\n",
    "    s2 = np.arange(len(s)) * stat[2] + b\n",
    "    pandas.DataFrame([s,s2]).T.plot(title=day)\n",
    "\n",
    "for x in ret:\n",
    "    demo(x)"
   ]
  },
  {
   "cell_type": "code",
   "execution_count": null,
   "metadata": {},
   "outputs": [],
   "source": [
    "import os\n",
    "from minigo import dao \n",
    "dao.init('2008-08-04_d.csv')\n",
    "if os.path.exists(\"lasttime.npy\"):\n",
    "    os.remove(\"lasttime.npy\") \n",
    "os.system('rm -rf abc;mkdir abc')\n",
    "dao.playByRandom('abc', 100)"
   ]
  },
  {
   "cell_type": "code",
   "execution_count": null,
   "metadata": {},
   "outputs": [],
   "source": [
    "for i in range(10):\n",
    "    dao.playByRandom('abc', 100)"
   ]
  },
  {
   "cell_type": "code",
   "execution_count": null,
   "metadata": {},
   "outputs": [],
   "source": [
    "import pandas\n",
    "import numpy as np\n",
    "x = pandas.DataFrame(np.load('lasttime.npy', allow_pickle=True))\n",
    "df = pandas.read_csv('2008-08-04_d.csv', index_col=0)\n",
    "x[4] = x[4] * df.shape[1] * 10\n",
    "x = x[x[5]<0.01].sort_values(4);\n",
    "x"
   ]
  }
 ],
 "metadata": {
  "kernelspec": {
   "display_name": "Python 3",
   "language": "python",
   "name": "python3"
  },
  "language_info": {
   "codemirror_mode": {
    "name": "ipython",
    "version": 3
   },
   "file_extension": ".py",
   "mimetype": "text/x-python",
   "name": "python",
   "nbconvert_exporter": "python",
   "pygments_lexer": "ipython3",
   "version": "3.6.9"
  }
 },
 "nbformat": 4,
 "nbformat_minor": 2
}
