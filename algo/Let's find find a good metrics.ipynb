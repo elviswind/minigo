{
 "cells": [
  {
   "cell_type": "code",
   "execution_count": null,
   "metadata": {
    "scrolled": false
   },
   "outputs": [],
   "source": [
    "import numpy as np\n",
    "import pandas\n",
    "from minigo import dao\n",
    "from glob import glob\n",
    "#[sorted(choice), 1 - drop, drop, meandrop, a, fitloss]\n",
    "ret = {}\n",
    "for npy in glob('*_n.npy'):\n",
    "    x = pandas.DataFrame(np.load(npy, allow_pickle=True))\n",
    "    df = pandas.read_csv(npy.replace('_n.npy', '_d.csv'), index_col=0)\n",
    "    N = df.shape[1]\n",
    "    print(x[x[4]>0.7/N].shape)\n",
    "    x = x[x[4]>0.7/N].sort_values(5);\n",
    "    rs = []\n",
    "    #rs2= []\n",
    "    for a in x.values:\n",
    "        dff = df.iloc[a[0]]\n",
    "        d, p, _, _ = dao.get_dpr(dff)\n",
    "        s = d.sum(axis=0) / d.shape[0]\n",
    "        slope, b = np.polyfit(np.arange(s.shape[0]), s, 1)\n",
    "        #slope2, b2 = np.polyfit(np.arange(12), s[-12:], 1)\n",
    "        r = s[-1] / ((len(s) - 1) * a[4] + b) - 1\n",
    "        rs.append(r)\n",
    "        #rs2.append(slope2)\n",
    "    rs = pandas.DataFrame(rs)\n",
    "    rs.index = x.index\n",
    "    rs.columns = ['now']\n",
    "    #rs2 = pandas.DataFrame(rs2)\n",
    "    #rs2.index = x.index\n",
    "    #rs2.columns = ['recent_slope']\n",
    "    x = pandas.concat([x, rs, rs2], axis=1)\n",
    "    x = x[x['now'] < -0.01].iloc[0]\n",
    "    #x = x.iloc[0]\n",
    "    #x = x[x['recent_slope'] > 0.6/N].iloc[0]\n",
    "    \n",
    "    #.iloc[0]\n",
    "    \n",
    "    stocks = df.index[x[0]].tolist()\n",
    "    dff = df.iloc[x[0]]\n",
    "    day = npy.replace('_n.npy', '')\n",
    "    d, p, _, _ = dao.get_dpr(dff)\n",
    "    ret[day] = [list(map(lambda a: '@\"' + a.split(' ')[1][1:-2] + '\"@', stocks)), (p / p.sum()).tolist(), x[0], x[2], x[4]]"
   ]
  },
  {
   "cell_type": "code",
   "execution_count": null,
   "metadata": {
    "scrolled": false
   },
   "outputs": [],
   "source": [
    "str(ret).replace('\\'@', '').replace('@\\'', '').replace('\\'', '\"')"
   ]
  },
  {
   "cell_type": "code",
   "execution_count": null,
   "metadata": {},
   "outputs": [],
   "source": [
    "def demo(day):\n",
    "    df = pandas.read_csv(day + '_d.csv', index_col=0)\n",
    "    d,p,_,_=dao.get_dpr(df.iloc[ret[day][2]])\n",
    "    s = d.sum(axis=0) / 10\n",
    "    stat = dao.stat(s)\n",
    "    print(day, stat[0], stat[2] * len(s) / s[0] * 100, stat[3])\n",
    "    _, b = np.polyfit(np.arange(s.shape[0]), s, 1)\n",
    "    s2 = np.arange(len(s)) * stat[2] + b\n",
    "    pandas.DataFrame([s,s2]).T.plot(title=day)\n",
    "\n",
    "for x in ret:\n",
    "    demo(x)"
   ]
  },
  {
   "cell_type": "code",
   "execution_count": null,
   "metadata": {},
   "outputs": [],
   "source": [
    "df = pandas.read_csv('2008-07-07_d.csv', index_col=0)\n",
    "x = pandas.DataFrame(np.load('lasttime.npy', allow_pickle=True)).sort_values(5).iloc[:100,:].sort_values(4, ascending=False).iloc[0]\n",
    "d,p,_,_=dao.get_dpr(df.iloc[x[0]])"
   ]
  },
  {
   "cell_type": "code",
   "execution_count": null,
   "metadata": {},
   "outputs": [],
   "source": [
    "s = d.sum(axis=0)\n",
    "pandas.DataFrame(s).plot()\n",
    "dao.stat(d.sum(axis=0))"
   ]
  },
  {
   "cell_type": "code",
   "execution_count": null,
   "metadata": {},
   "outputs": [],
   "source": [
    "x = pandas.DataFrame(np.load('2008-07-07_n.npy', allow_pickle=True))\n",
    "x[x[2]<1].shape[0]\n",
    "\n",
    "\n",
    "    "
   ]
  },
  {
   "cell_type": "code",
   "execution_count": null,
   "metadata": {},
   "outputs": [],
   "source": [
    "d,eligible = dao.get_d('2008-07-07_d.csv')\n",
    "BLACK_LIST = []\n",
    "MAX=10\n",
    "\n",
    "def find_eligible_no_network(got):\n",
    "    if len(got) == 0: return list(range(d.shape[0]))\n",
    "    origin = eligible[got[0]]\n",
    "    for i in range(1, len(got)):\n",
    "        origin = np.logical_and(eligible[got[i]], origin)\n",
    "    ret = np.where(origin)[0].tolist()\n",
    "    return [i for i in ret if i not in BLACK_LIST]\n",
    "\n",
    "def factorial_random_no_network(gots, repeat):\n",
    "    if gots is None or len(gots) == 0:\n",
    "        gots = []\n",
    "        f = find_eligible_no_network([])\n",
    "        for j in range(repeat):\n",
    "            c = np.random.choice(f, 1)[0]\n",
    "            gots.append([c])\n",
    "\n",
    "    toContinue = []\n",
    "    toKeep = []\n",
    "    for got in gots:\n",
    "        if len(got) == MAX:\n",
    "            toKeep.append(got)\n",
    "        else:\n",
    "            toContinue.append(got)\n",
    "\n",
    "    if len(toContinue) == 0:\n",
    "        return toKeep\n",
    "\n",
    "    fines = []\n",
    "    for got in toContinue:\n",
    "        fines.append(find_eligible_no_network(got))\n",
    "        \n",
    "    nextGots = []\n",
    "    for i in range(len(toContinue)):\n",
    "        for j in range(repeat):\n",
    "            if len(fines[i]) > 0:\n",
    "                c = np.random.choice(fines[i], 1)[0]\n",
    "                nextGots.append(toContinue[i] + [c])\n",
    "\n",
    "    return factorial_random_no_network(toKeep + nextGots, repeat)\n",
    "\n",
    "result = []\n",
    "\n",
    "for i in range(100):\n",
    "    xs = factorial_random_no_network([], 2)\n",
    "    for x in xs:\n",
    "        x.sort()\n",
    "        s = d[x].sum(axis=0) / MAX\n",
    "        result.append(list(dao.stat(s)) + [x])"
   ]
  },
  {
   "cell_type": "code",
   "execution_count": null,
   "metadata": {},
   "outputs": [],
   "source": [
    "result = pandas.DataFrame(result)\n",
    "result[result[0] < 2].sort_values(0)"
   ]
  },
  {
   "cell_type": "code",
   "execution_count": null,
   "metadata": {},
   "outputs": [],
   "source": [
    "dao.playByRandom('abc')"
   ]
  }
 ],
 "metadata": {
  "kernelspec": {
   "display_name": "Python 3",
   "language": "python",
   "name": "python3"
  },
  "language_info": {
   "codemirror_mode": {
    "name": "ipython",
    "version": 3
   },
   "file_extension": ".py",
   "mimetype": "text/x-python",
   "name": "python",
   "nbconvert_exporter": "python",
   "pygments_lexer": "ipython3",
   "version": "3.6.8"
  }
 },
 "nbformat": 4,
 "nbformat_minor": 2
}
