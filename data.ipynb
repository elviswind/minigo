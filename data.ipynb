{
 "cells": [
  {
   "cell_type": "code",
   "execution_count": 1,
   "metadata": {},
   "outputs": [],
   "source": [
    "%matplotlib inline\n",
    "import pandas\n",
    "import numpy as np\n",
    "df = pandas.read_csv('d.csv', index_col=0)\n",
    "\n",
    "a = df.iloc[:, :-1]\n",
    "b = df.iloc[:, 1:]\n",
    "b.columns = a.columns = range(df.shape[1] - 1)\n",
    "r = (b - a) / a\n",
    "p = 1 / np.linalg.norm(r, axis=1)\n",
    "r = (r.T * p).T.as_matrix()\n",
    "l = r.shape[0]\n",
    "cor = np.ones([l, l])\n",
    "for i in range(l):\n",
    "    for j in range(i + 1, l):\n",
    "        s = (r[i] * r[j]).sum()\n",
    "        cor[i][j] = s\n",
    "        cor[j][i] = s\n",
    "        \n",
    "d = (df.as_matrix().astype(np.float32).T * p).T\n"
   ]
  },
  {
   "cell_type": "code",
   "execution_count": 2,
   "metadata": {},
   "outputs": [
    {
     "data": {
      "text/plain": [
       "array([[ 97.57607006,  96.71600907, 101.21055378, ..., 192.23902007,\n",
       "        197.14972026, 193.45976819],\n",
       "       [ 84.88817267,  79.14298116,  77.22791733, ...,  89.63675213,\n",
       "         91.41502623,  84.81001243],\n",
       "       [ 46.24969006,  45.39392082,  48.20845705, ...,  88.01133332,\n",
       "         85.99552086,  79.47264039],\n",
       "       ...,\n",
       "       [ 63.51648532,  63.03778459,  60.89621225, ..., 133.15534605,\n",
       "        135.54886893, 140.08395934],\n",
       "       [148.02075791, 153.88941837, 162.98223317, ..., 302.74338005,\n",
       "        309.55391882, 307.34411091],\n",
       "       [ 45.25780007,  45.68361473,  47.54907978, ..., 101.58672696,\n",
       "         95.66590728,  95.8281176 ]])"
      ]
     },
     "execution_count": 2,
     "metadata": {},
     "output_type": "execute_result"
    }
   ],
   "source": [
    "d"
   ]
  },
  {
   "cell_type": "code",
   "execution_count": null,
   "metadata": {
    "scrolled": false
   },
   "outputs": [],
   "source": [
    "import random\n",
    "def findDist(n):\n",
    "    data = []\n",
    "    for i in range(100000):\n",
    "        choice = random.sample(range(d.shape[0]), n)\n",
    "        bad = True\n",
    "        while bad:\n",
    "            bad = False\n",
    "            for k in range(n):\n",
    "                for l in range(k):\n",
    "                    if np.abs(cor[k][l]) > 0.75:\n",
    "                        bad = True\n",
    "                        break\n",
    "                if bad:\n",
    "                    break\n",
    "            if bad:\n",
    "                choice = random.sample(range(d.shape[0]), n)    \n",
    "                \n",
    "        s = d[choice].sum(axis=0)\n",
    "        s = s / n\n",
    "        m = s.mean()\n",
    "        last = s[0] < m\n",
    "        reg = 0\n",
    "        for i in range(1, len(s)):\n",
    "            if (s[i] < m) != last:\n",
    "                reg+=1\n",
    "                last = s[i] < m\n",
    "        score = reg\n",
    "        \n",
    "        if score >= 35:\n",
    "            print(sorted(choice), score)\n",
    "            #print(df.index[choice])\n",
    "        data.append(score)\n",
    "        \n",
    "    return data\n",
    "    \n",
    "x = findDist(5)\n",
    "    \n",
    "#pandas.DataFrame(findDist(5)).hist(bins=100)"
   ]
  },
  {
   "cell_type": "code",
   "execution_count": null,
   "metadata": {},
   "outputs": [],
   "source": [
    "%matplotlib inline\n",
    "import pandas\n",
    "from glob import glob\n",
    "import numpy as np\n",
    "\n",
    "df = None\n",
    "t = 'week'\n",
    "for a in glob('C:\\\\Users\\\\peter\\\\Documents\\\\main\\\\IB\\\\*_' + t + '.csv'):\n",
    "    if df is None:\n",
    "        df = pandas.read_csv(a, index_col=0).T\n",
    "    else:\n",
    "        df = pandas.concat([df,pandas.read_csv(a, index_col=0).T], axis=1)\n",
    "\n",
    "if t == 'week':\n",
    "    d = df.iloc[-112:-1,:]\n",
    "    d = d.dropna(axis=1,how='any').astype('float32').T\n",
    "else:\n",
    "    d = df.T\n",
    "    \n",
    "#mx = d.max(axis=0)\n",
    "#mi = d.min(axis=0)\n",
    "#p = 1 / (mx - mi)\n",
    "#d = ((d - mi) * p + np.ones(p.shape)).T\n",
    "\n",
    "\n",
    "if t == 'week':\n",
    "    d.to_csv('d.csv')\n"
   ]
  },
  {
   "cell_type": "code",
   "execution_count": null,
   "metadata": {},
   "outputs": [],
   "source": [
    "d"
   ]
  },
  {
   "cell_type": "code",
   "execution_count": 3,
   "metadata": {},
   "outputs": [
    {
     "name": "stdout",
     "output_type": "stream",
     "text": [
      "[490, 88, 119, 347, 502]\n"
     ]
    }
   ],
   "source": [
    "got = ['迈克高仕', '埃克斯资本', '拜玛林制药', 'FMC Corp.', 'L Brands Inc']\n",
    "idx = []\n",
    "for g in got:\n",
    "    idx.append(list(df.index).index(g))\n",
    "    \n",
    "print(idx)"
   ]
  },
  {
   "cell_type": "code",
   "execution_count": 10,
   "metadata": {},
   "outputs": [
    {
     "data": {
      "text/plain": [
       "array(['Expedia', 'FRT信托', '荷美尔', '滨特尔', '美国钢铁'], dtype=object)"
      ]
     },
     "execution_count": 10,
     "metadata": {},
     "output_type": "execute_result"
    }
   ],
   "source": [
    "np.array(df.index)[[316, 353, 409, 672, 965]]"
   ]
  },
  {
   "cell_type": "code",
   "execution_count": 4,
   "metadata": {},
   "outputs": [
    {
     "name": "stdout",
     "output_type": "stream",
     "text": [
      "(111,)\n",
      "319.6255855855856\n",
      "1 317.20000000000005 321.64\n",
      "2 326.03 317.20000000000005\n",
      "3 308.46 326.03\n",
      "5 319.84999999999997 316.68\n",
      "6 311.16 319.84999999999997\n",
      "19 328.15999999999997 318.37\n",
      "21 318.15999999999997 328.39\n",
      "22 323.23 318.15999999999997\n",
      "25 313.59000000000003 323.63\n",
      "27 326.59000000000003 318.64\n",
      "28 312.75 326.59000000000003\n",
      "34 324.13 306.54\n",
      "37 318.37 326.32\n",
      "38 329.0 318.37\n",
      "40 317.75 321.33\n",
      "58 325.11 313.94000000000005\n",
      "60 311.85 322.27\n",
      "64 319.8 318.61999999999995\n",
      "65 316.13000000000005 319.8\n",
      "66 322.19 316.13000000000005\n",
      "67 318.66999999999996 322.19\n",
      "78 325.05 311.6\n",
      "102 312.75 331.98999999999995\n",
      "103 326.19 312.75\n",
      "105 309.1 325.68\n",
      "108 321.92 314.33\n"
     ]
    },
    {
     "data": {
      "text/plain": [
       "26"
      ]
     },
     "execution_count": 4,
     "metadata": {},
     "output_type": "execute_result"
    },
    {
     "data": {
      "image/png": "[encoded data removed]",
      "text/plain": [
       "<matplotlib.figure.Figure at 0x200f6f2a5f8>"
      ]
     },
     "metadata": {},
     "output_type": "display_data"
    }
   ],
   "source": [
    "idx = [55, 107, 309, 742, 916, 958]\n",
    "sums = (df.T[got]).sum(axis=1)\n",
    "print(sums.shape)\n",
    "sums.plot()\n",
    "s = sums.as_matrix()\n",
    "\n",
    "m = s.mean()\n",
    "print(m)\n",
    "last = s[0] < m\n",
    "reg = 0\n",
    "for i in range(1, len(s)):\n",
    "    if (s[i] < m) != last:\n",
    "        print(i, s[i], s[i-1])\n",
    "        reg+=1\n",
    "        last = s[i] < m\n",
    "\n",
    "reg"
   ]
  }
 ],
 "metadata": {
  "kernelspec": {
   "display_name": "Python 3",
   "language": "python",
   "name": "python3"
  },
  "language_info": {
   "codemirror_mode": {
    "name": "ipython",
    "version": 3
   },
   "file_extension": ".py",
   "mimetype": "text/x-python",
   "name": "python",
   "nbconvert_exporter": "python",
   "pygments_lexer": "ipython3",
   "version": "3.6.2"
  }
 },
 "nbformat": 4,
 "nbformat_minor": 2
}
