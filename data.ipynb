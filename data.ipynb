{
 "cells": [
  {
   "cell_type": "markdown",
   "metadata": {},
   "source": [
    "# TODO even the contribution"
   ]
  },
  {
   "cell_type": "markdown",
   "metadata": {},
   "source": [
    "# Load Data"
   ]
  },
  {
   "cell_type": "code",
   "execution_count": null,
   "metadata": {},
   "outputs": [],
   "source": [
    "%matplotlib inline\n",
    "import pandas\n",
    "import numpy as np\n",
    "from matplotlib import pyplot as plt\n",
    "df = pandas.read_csv('d.csv', index_col=0)\n",
    "df = df.filter(like='ETF', axis=0)\n",
    "a = df.iloc[:, :-1]\n",
    "b = df.iloc[:, 1:]\n",
    "b.columns = a.columns = range(df.shape[1] - 1)\n",
    "r = (b - a) / a\n",
    "#p = 1 / np.linalg.norm(r, axis=1)\n",
    "p = ( 1 / np.abs(r).mean(axis=1)).values\n",
    "print(p, p.shape)\n",
    "r = (r.T * p).T.values\n",
    "l = r.shape[0]\n",
    "\n",
    "cor = np.ones([l, l])\n",
    "for i in range(l):\n",
    "    for j in range(i + 1, l):\n",
    "        s = (r[i] * r[j]).sum()\n",
    "        cor[i][j] = s\n",
    "        cor[j][i] = s\n",
    "        \n",
    "d = df.values.astype(np.float32)\n",
    "p = p / d.T[0]\n",
    "d = (d.T * p).T\n",
    "print(d.shape)"
   ]
  },
  {
   "cell_type": "code",
   "execution_count": null,
   "metadata": {},
   "outputs": [],
   "source": [
    "a = d[:, 1:]\n",
    "b = d[:, :-1]\n",
    "r = a - b\n",
    "contri= np.abs(r).mean(axis=1)\n",
    "print(contri, contri.shape)\n",
    "contri = contri / contri.min()\n",
    "print(contri)\n",
    "print(contri.shape)"
   ]
  },
  {
   "cell_type": "markdown",
   "metadata": {},
   "source": [
    "# Test random output distribution"
   ]
  },
  {
   "cell_type": "code",
   "execution_count": null,
   "metadata": {},
   "outputs": [],
   "source": [
    "import random\n",
    "\n",
    "dist = []\n",
    "n = 6\n",
    "for i in range(100000):\n",
    "    choice = random.sample(range(d.shape[0]), n)\n",
    "    # if 372 not in choice:\n",
    "    #     choice = choice + [372]\n",
    "    bad = True\n",
    "    while bad:\n",
    "        bad = False\n",
    "        for k in range(len(choice)):\n",
    "            for l in range(k):\n",
    "                if np.abs(cor[choice[k]][choice[l]]) > 0.75:\n",
    "                    bad = True\n",
    "                    break\n",
    "            if bad:\n",
    "                break\n",
    "        if bad:\n",
    "            choice = random.sample(range(d.shape[0]), n)\n",
    "            # if 372 not in choice:\n",
    "            #     choice = choice + [372]\n",
    "\n",
    "    s = d[choice].sum(axis=0)\n",
    "    s = s / n\n",
    "    m = s.mean()\n",
    "    s = s / m\n",
    "    x = np.arange(len(s)) + 1\n",
    "    a, b = np.polyfit(x, np.log(s), 1)\n",
    "    y = np.exp(a * x + b)\n",
    "\n",
    "    # reg times\n",
    "    last = s[0] < y[0]\n",
    "    reg = 0\n",
    "    regDist = [0]\n",
    "    for i in range(1, len(s)):\n",
    "        if (s[i] < y[i]) != last:\n",
    "            regDist.append(i)\n",
    "            reg += 1\n",
    "            last = s[i] < y[i]\n",
    "\n",
    "    # reg distribution\n",
    "    regDist = np.array(regDist)\n",
    "    regStd = (regDist[1:] - regDist[:-1]).std()\n",
    "    dist.append(regStd)\n",
    "    \n",
    "pandas.DataFrame(dist).hist(bins=1000)\n",
    "pandas.qcut(dist,  [0, 0.05, 0.1, 0.25, 0.5, 0.75, 1])"
   ]
  },
  {
   "cell_type": "markdown",
   "metadata": {},
   "source": [
    "# Load Weekly data and clean into d.csv"
   ]
  },
  {
   "cell_type": "code",
   "execution_count": null,
   "metadata": {
    "scrolled": true
   },
   "outputs": [],
   "source": [
    "%matplotlib inline\n",
    "import pandas\n",
    "from glob import glob\n",
    "import numpy as np\n",
    "\n",
    "df = None\n",
    "t = 'day'\n",
    "for f in glob('D:\\\\work\\\\main\\\\IB\\\\*_' + t + '.csv'):\n",
    "    if df is None:\n",
    "        df = pandas.read_csv(f, index_col=0).T\n",
    "    else:\n",
    "        df = pandas.concat([df,pandas.read_csv(f, index_col=0).T], axis=1)\n"
   ]
  },
  {
   "cell_type": "markdown",
   "metadata": {},
   "source": [
    "### make sure no Nan value is in d.csv"
   ]
  },
  {
   "cell_type": "code",
   "execution_count": null,
   "metadata": {},
   "outputs": [],
   "source": [
    "if t == 'week':\n",
    "    d = df.iloc[-112:-1,:]\n",
    "    d = d.dropna(axis=1,how='any').astype('float32').T\n",
    "else:\n",
    "    d = df.T\n",
    "    \n",
    "if t == 'week':\n",
    "    d.to_csv('d.csv')"
   ]
  },
  {
   "cell_type": "code",
   "execution_count": null,
   "metadata": {},
   "outputs": [],
   "source": [
    "got = ['iShares Edge MSCI Min Vol EAFE ETF', '台湾ETF-iShares MSCI', '银行指数ETF-SPDR KBW', '道指三倍做空ETF-ProShares']\n",
    "(df[got] * p[idx]).plot()\n",
    "\n",
    "dates = df.index.astype(np.float32)\n",
    "dates = np.round((dates - startDate) / 3600 / 24 / 1000) / 7 + 1\n",
    "\n",
    "y = np.exp(a * dates + b)\n",
    "y2 = (df[got] * p[idx]).sum(axis=1) / len(got)\n",
    "plt.figure()\n",
    "plt.plot(dates, y)\n",
    "plt.plot(dates[30:], y2[30:])\n",
    "y2[-1] / y[-1] - 1"
   ]
  },
  {
   "cell_type": "code",
   "execution_count": null,
   "metadata": {
    "scrolled": false
   },
   "outputs": [],
   "source": [
    "idx = [21, 36, 54, 68, 92]\n",
    "\n",
    "columns = list(np.array(df.index)[idx])\n",
    "print(columns)\n",
    "\n",
    "coridx = np.ones([len(idx), len(idx)])\n",
    "for i in range(len(idx)):\n",
    "    for j in range(i):\n",
    "        if np.abs(cor[idx[i]][idx[j]]) > 0.75:\n",
    "            print('correlation too high')\n",
    "        coridx[i][j] = cor[idx[i]][idx[j]]\n",
    "        coridx[j][i] = cor[idx[j]][idx[i]]\n",
    "print(coridx)\n",
    "\n",
    "a = d[idx][:, 1:]\n",
    "b = d[idx][:, :-1]\n",
    "r = a - b\n",
    "contri= np.abs(r).mean(axis=1)\n",
    "contri = contri / contri.min()\n",
    "print(contri)\n",
    "\n",
    "graph = pandas.DataFrame(d[idx]).T\n",
    "graph.columns = columns \n",
    "graph.plot()\n",
    "d[idx].sum(axis=0)[-1]\n",
    "\n",
    "\n",
    "\n",
    "s = (d[idx]).sum(axis=0)\n",
    "print(s.shape)\n",
    "print(p[idx])\n",
    "\n",
    "dates = df.columns.astype(np.float32)\n",
    "startDate = dates[0]\n",
    "dates = np.round((dates - startDate) / 3600 / 24 / 1000 / 7) + 1\n",
    "\n",
    "s = s / len(idx)\n",
    "a, b = np.polyfit(dates, np.log(s), 1)\n",
    "print('a,b', a, b)\n",
    "y = np.exp(a * dates + b)\n",
    "last = s[0] < y[0]\n",
    "reg = 0\n",
    "for i in range(1, len(s)):\n",
    "    if (s[i] < y[i]) != last:\n",
    "        reg += 1\n",
    "        last = s[i] < y[i]\n",
    "print(reg)\n",
    "\n",
    "plt.figure()\n",
    "plt.plot(dates, y)\n",
    "plt.plot(dates, s)"
   ]
  }
 ],
 "metadata": {
  "kernelspec": {
   "display_name": "Python 3",
   "language": "python",
   "name": "python3"
  },
  "language_info": {
   "codemirror_mode": {
    "name": "ipython",
    "version": 3
   },
   "file_extension": ".py",
   "mimetype": "text/x-python",
   "name": "python",
   "nbconvert_exporter": "python",
   "pygments_lexer": "ipython3",
   "version": "3.6.2"
  }
 },
 "nbformat": 4,
 "nbformat_minor": 2
}
