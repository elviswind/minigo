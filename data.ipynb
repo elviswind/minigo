{
 "cells": [
  {
   "cell_type": "code",
   "execution_count": 2,
   "metadata": {},
   "outputs": [
    {
     "name": "stderr",
     "output_type": "stream",
     "text": [
      "c:\\users\\peter\\appdata\\local\\programs\\python\\python36\\lib\\site-packages\\ipykernel_launcher.py:11: FutureWarning: Method .as_matrix will be removed in a future version. Use .values instead.\n",
      "  # This is added back by InteractiveShellApp.init_path()\n",
      "c:\\users\\peter\\appdata\\local\\programs\\python\\python36\\lib\\site-packages\\ipykernel_launcher.py:20: FutureWarning: Method .as_matrix will be removed in a future version. Use .values instead.\n"
     ]
    }
   ],
   "source": [
    "%matplotlib inline\n",
    "import pandas\n",
    "import numpy as np\n",
    "df = pandas.read_csv('d.csv', index_col=0)\n",
    "\n",
    "a = df.iloc[:, :-1]\n",
    "b = df.iloc[:, 1:]\n",
    "b.columns = a.columns = range(df.shape[1] - 1)\n",
    "r = (b - a) / a\n",
    "p = 1 / np.linalg.norm(r, axis=1)\n",
    "r = (r.T * p).T.as_matrix()\n",
    "l = r.shape[0]\n",
    "cor = np.ones([l, l])\n",
    "for i in range(l):\n",
    "    for j in range(i + 1, l):\n",
    "        s = (r[i] * r[j]).sum()\n",
    "        cor[i][j] = s\n",
    "        cor[j][i] = s\n",
    "        \n",
    "d = (df.as_matrix().astype(np.float32).T * p).T\n"
   ]
  },
  {
   "cell_type": "code",
   "execution_count": 33,
   "metadata": {},
   "outputs": [
    {
     "data": {
      "text/plain": [
       "342"
      ]
     },
     "execution_count": 33,
     "metadata": {},
     "output_type": "execute_result"
    }
   ],
   "source": [
    "zzz = np.copy(cor[742])\n",
    "zzz[742] = 0\n",
    "zzz[554] = 0\n",
    "zzz.argmax()"
   ]
  },
  {
   "cell_type": "code",
   "execution_count": 5,
   "metadata": {},
   "outputs": [],
   "source": [
    "%matplotlib inline\n",
    "import pandas\n",
    "from glob import glob\n",
    "import numpy as np\n",
    "\n",
    "df = None\n",
    "t = 'week'\n",
    "for a in glob('C:\\\\Users\\\\peter\\\\Documents\\\\main\\\\IB\\\\*_' + t + '.csv'):\n",
    "    if df is None:\n",
    "        df = pandas.read_csv(a, index_col=0).T\n",
    "    else:\n",
    "        df = pandas.concat([df,pandas.read_csv(a, index_col=0).T], axis=1)\n"
   ]
  },
  {
   "cell_type": "code",
   "execution_count": 14,
   "metadata": {},
   "outputs": [
    {
     "data": {
      "text/plain": [
       "array([[nan, nan, nan, ..., 41.45, 40.18, 41.06],\n",
       "       [nan, nan, nan, ..., 1077.32, 1031.45, 1026.05],\n",
       "       [nan, nan, nan, ..., 20.54, 20.35, 20.56],\n",
       "       ...,\n",
       "       [nan, nan, nan, ..., 29.93, 29.95, 30.32],\n",
       "       [nan, nan, nan, ..., 96.24, 94.6, 93.02],\n",
       "       [nan, nan, nan, ..., 36.26, 37.0, 36.54]], dtype=object)"
      ]
     },
     "execution_count": 14,
     "metadata": {},
     "output_type": "execute_result"
    }
   ],
   "source": [
    "df.as_matrix().T[[69, 383, 583, 591, 758, 761, 864, 963]]"
   ]
  },
  {
   "cell_type": "code",
   "execution_count": null,
   "metadata": {},
   "outputs": [],
   "source": [
    "if t == 'week':\n",
    "    d = df.iloc[-112:-1,:]\n",
    "    d = d.dropna(axis=1,how='any').astype('float32').T\n",
    "else:\n",
    "    d = df.T\n",
    "    \n",
    "if t == 'week':\n",
    "    d.to_csv('d.csv')"
   ]
  },
  {
   "cell_type": "code",
   "execution_count": 12,
   "metadata": {},
   "outputs": [
    {
     "name": "stdout",
     "output_type": "stream",
     "text": [
      "[69, 383, 583, 591, 758, 761, 864, 963]\n"
     ]
    }
   ],
   "source": [
    "got = ['阿帕契', '谷歌A', '迈威尔科技', '美国制商银行', 'iShares Barclays Short Treasury', '标普500反向ETF', '时代华纳', '惠好']\n",
    "idx = []\n",
    "for g in got:\n",
    "    idx.append(list(df.columns).index(g))\n",
    "    \n",
    "print(idx)"
   ]
  },
  {
   "cell_type": "code",
   "execution_count": 12,
   "metadata": {},
   "outputs": [],
   "source": [
    "#idx = [69, 372, 570, 578, 742, 745, 844, 939]\n",
    "idx = [633, 871, 917, 968]"
   ]
  },
  {
   "cell_type": "code",
   "execution_count": 13,
   "metadata": {},
   "outputs": [
    {
     "name": "stdout",
     "output_type": "stream",
     "text": [
      "['欧尼克（万欧卡）', 'iShares MSCI USA Minimum Volatil', '西部数据', '欢聚时代']\n"
     ]
    }
   ],
   "source": [
    "print(list(np.array(df.index)[idx]))\n",
    "\n",
    "bad = False\n",
    "for k in range(len(idx)):\n",
    "    for l in range(k):\n",
    "        if np.abs(cor[idx[k]][idx[l]]) > 0.75:\n",
    "            bad = True\n",
    "            break\n",
    "    if bad:\n",
    "        break\n",
    "if bad:\n",
    "    print('correlation too high')"
   ]
  },
  {
   "cell_type": "code",
   "execution_count": 14,
   "metadata": {},
   "outputs": [
    {
     "name": "stdout",
     "output_type": "stream",
     "text": [
      "(111,)\n",
      "[2.72569535 7.20256131 1.79466718 1.39055851]\n",
      "0.004279707190687519 -0.24936276123936624\n",
      "45\n"
     ]
    },
    {
     "data": {
      "text/plain": [
       "[<matplotlib.lines.Line2D at 0x1f3b2843cc0>]"
      ]
     },
     "execution_count": 14,
     "metadata": {},
     "output_type": "execute_result"
    },
    {
     "data": {
      "image/png": "[encoded data removed]",
      "text/plain": [
       "<Figure size 432x288 with 1 Axes>"
      ]
     },
     "metadata": {},
     "output_type": "display_data"
    }
   ],
   "source": [
    "from matplotlib import pyplot as plt\n",
    "s = (d[idx]).sum(axis=0)\n",
    "print(s.shape)\n",
    "print(p[idx])\n",
    "\n",
    "m = s.mean()\n",
    "s = s / m\n",
    "x = np.arange(len(s)) + 1\n",
    "a, b = np.polyfit(x, np.log(s), 1)\n",
    "print(a, b)\n",
    "y = np.exp(a * x + b)\n",
    "last = s[0] < y[0]\n",
    "reg = 0\n",
    "for i in range(1, len(s)):\n",
    "    if (s[i] < y[i]) != last:\n",
    "        reg += 1\n",
    "        last = s[i] < y[i]\n",
    "print(reg)\n",
    "\n",
    "\n",
    "plt.plot(x, y)\n",
    "plt.plot(x, s)\n",
    "plt.plot(x, d[372] / d[372].mean())"
   ]
  },
  {
   "cell_type": "code",
   "execution_count": 11,
   "metadata": {},
   "outputs": [
    {
     "name": "stdout",
     "output_type": "stream",
     "text": [
      "[1.14123595 2.75243866 3.82763359 4.53012376 4.55954086 5.06936305\n",
      " 5.73218856 5.73218856 5.73218856 5.73218856 5.73218856 5.93193696\n",
      " 6.81167922 8.04430701 8.04430701 8.04430701 8.04430701 8.04430701\n",
      " 8.04430701 8.04430701 8.04430701 8.04430701 8.04430701 8.04430701\n",
      " 8.04430701 8.04430701 8.04430701 8.04430701 8.04430701 8.04430701\n",
      " 8.04430701 8.04430701 8.04430701 8.04430701 8.04430701 8.04430701\n",
      " 8.04430701 8.04430701 8.04430701 8.04430701 8.04430701 8.04430701\n",
      " 8.04430701 8.04430701 8.04430701 8.04430701 8.04430701 8.04430701\n",
      " 8.04430701 8.04430701 8.04430701 8.04430701 8.04430701 8.04430701\n",
      " 8.04430701 8.04430701 8.04430701 8.04430701 8.04430701 8.04430701\n",
      " 8.04430701 8.04430701 8.04430701 8.04430701 8.04430701 8.04430701\n",
      " 8.04430701 8.04430701 8.04430701 8.04430701 8.04430701 8.04430701\n",
      " 8.04430701 8.04430701 8.04430701 8.04430701 8.04430701 8.04430701\n",
      " 8.04430701 8.04430701 8.04430701 8.04430701 8.04430701 8.04430701\n",
      " 8.04430701 8.04430701 8.04430701 8.04430701 8.04430701 8.04430701\n",
      " 8.04430701 8.04430701 8.04430701 8.04430701 8.04430701 8.04430701\n",
      " 8.04430701 8.04430701 8.04430701 8.04430701]\n"
     ]
    },
    {
     "data": {
      "text/plain": [
       "[<matplotlib.lines.Line2D at 0x213755e7b70>]"
      ]
     },
     "execution_count": 11,
     "metadata": {},
     "output_type": "execute_result"
    },
    {
     "data": {
      "image/png": "[encoded data removed]",
      "text/plain": [
       "<matplotlib.figure.Figure at 0x213755ec400>"
      ]
     },
     "metadata": {},
     "output_type": "display_data"
    }
   ],
   "source": [
    "n = 100\n",
    "xs = np.random.randn(n).cumsum()\n",
    "print(np.maximum.accumulate(xs))\n",
    "i = np.argmax(np.maximum.accumulate(xs) - xs) # end of the period\n",
    "j = np.argmax(xs[:i]) # start of period\n",
    "\n",
    "plt.plot(xs)\n",
    "plt.plot([i, j], [xs[i], xs[j]], 'o', color='Red', markersize=10)"
   ]
  }
 ],
 "metadata": {
  "kernelspec": {
   "display_name": "Python 3",
   "language": "python",
   "name": "python3"
  },
  "language_info": {
   "codemirror_mode": {
    "name": "ipython",
    "version": 3
   },
   "file_extension": ".py",
   "mimetype": "text/x-python",
   "name": "python",
   "nbconvert_exporter": "python",
   "pygments_lexer": "ipython3",
   "version": "3.6.2"
  }
 },
 "nbformat": 4,
 "nbformat_minor": 2
}
