{
 "cells": [
  {
   "cell_type": "markdown",
   "metadata": {},
   "source": [
    "# Load Data"
   ]
  },
  {
   "cell_type": "code",
   "execution_count": null,
   "metadata": {},
   "outputs": [],
   "source": [
    "%matplotlib inline\n",
    "import pandas\n",
    "import numpy as np\n",
    "from matplotlib import pyplot as plt\n",
    "\n",
    "df = pandas.read_csv('d.csv', index_col=0)\n",
    "df = df.filter(like='ETF', axis=0)\n",
    "a = df.iloc[:, :-1]\n",
    "b = df.iloc[:, 1:]\n",
    "b.columns = a.columns = range(df.shape[1] - 1)\n",
    "r = (b - a) / a\n",
    "p = 1 / np.linalg.norm(r, axis=1)\n",
    "r = (r.T * p).T.values\n",
    "l = r.shape[0]\n",
    "cor = np.ones([l, l])\n",
    "for i in range(l):\n",
    "    for j in range(i + 1, l):\n",
    "        s = (r[i] * r[j]).sum()\n",
    "        cor[i][j] = s\n",
    "        cor[j][i] = s\n",
    "\n",
    "base = 10\n",
    "d = np.concatenate((np.ones([r.shape[0], 1]) * base,\n",
    "                    np.add.accumulate(r, axis=1) + np.ones(r.shape) * base), axis=1)"
   ]
  },
  {
   "cell_type": "markdown",
   "metadata": {},
   "source": [
    "# Test By tiger data"
   ]
  },
  {
   "cell_type": "code",
   "execution_count": null,
   "metadata": {},
   "outputs": [],
   "source": [
    "idx = [25, 54, 82, 73, 91]\n",
    "# EZU KRE TIP SMH UVXY\n",
    "columns = list(np.array(df.index)[idx])\n",
    "print(columns)\n",
    "\n",
    "coridx = np.ones([len(idx), len(idx)])\n",
    "for i in range(len(idx)):\n",
    "    for j in range(i):\n",
    "        if np.abs(cor[idx[i]][idx[j]]) > 0.75:\n",
    "            print('correlation too high')\n",
    "        coridx[i][j] = cor[idx[i]][idx[j]]\n",
    "        coridx[j][i] = cor[idx[j]][idx[i]]\n",
    "print(coridx)\n",
    "\n",
    "a = d[idx][:, 1:]\n",
    "b = d[idx][:, :-1]\n",
    "r = a - b\n",
    "contri= np.abs(r).mean(axis=1)\n",
    "contri = contri / contri.min()\n",
    "print(\"contribution: {}\".format(contri))\n",
    "\n",
    "graph = pandas.DataFrame(d[idx]).T\n",
    "graph.columns = columns \n",
    "graph.plot()\n",
    "d[idx].sum(axis=0)[-1]\n",
    "\n",
    "s = (d[idx]).sum(axis=0)\n",
    "print(\"percentage of total value: {}\".format(p[idx] / p[idx].sum() * 100))\n",
    "\n",
    "dates = df.columns.astype(np.float32)\n",
    "startDate = dates[0]\n",
    "dates = np.round((dates - startDate) / 3600 / 24 / 1000 / 7) + 1\n",
    "\n",
    "s = s / len(idx)\n",
    "A, B = np.polyfit(dates, np.log(s), 1)\n",
    "print('A,B', A, B)\n",
    "y = np.exp(A * dates + B)\n",
    "last = s[0] < y[0]\n",
    "reg = 0\n",
    "for i in range(1, len(s)):\n",
    "    if (s[i] < y[i]) != last:\n",
    "        reg += 1\n",
    "        last = s[i] < y[i]\n",
    "print('revisit times: ', reg)\n",
    "\n",
    "print(s[64])\n",
    "print(dates[-1])\n",
    "\n",
    "plt.figure()\n",
    "plt.plot(dates, y)\n",
    "plt.plot(dates, s)\n",
    "s / y - 1"
   ]
  },
  {
   "cell_type": "markdown",
   "metadata": {},
   "source": [
    "# Test by yahoo data"
   ]
  },
  {
   "cell_type": "code",
   "execution_count": null,
   "metadata": {},
   "outputs": [],
   "source": [
    "from glob import glob\n",
    "df = None\n",
    "for f in glob('sss\\\\*.csv'):\n",
    "    name = f.split('\\\\')[1].split('.')[0]\n",
    "    if df is None:\n",
    "        df = pandas.read_csv(f, index_col=0)[['Adj Close']]\n",
    "        df.columns = [name]\n",
    "    else:\n",
    "        csv = pandas.read_csv(f, index_col=0)[['Adj Close']]\n",
    "        csv.columns = [name]\n",
    "        df = pandas.concat([df,csv], axis=1)\n",
    "        \n",
    "df = df.dropna().T\n",
    "print(df.shape)\n",
    "a = df.iloc[:, :-1]\n",
    "b = df.iloc[:, 1:]\n",
    "b.columns = a.columns\n",
    "r = (((b - a) / a).T * p[idx] ).T\n",
    "r = np.concatenate((np.ones([r.shape[0], 1]) * base,\n",
    "                    np.add.accumulate(r, axis=1) + np.ones(r.shape) * base), axis=1).T\n",
    "r = pandas.DataFrame(r)\n",
    "r.index = df.columns.astype(np.datetime64)\n",
    "r.columns = df.index\n",
    "r.plot(figsize=(16, 9))\n",
    "print(r.shape)\n",
    "\n",
    "y2 = r.sum(axis=1)\n",
    "#plt.figure(figsize=(16, 9))\n",
    "plt.plot(df.columns.astype(np.datetime64), y2 / len(idx))\n"
   ]
  },
  {
   "cell_type": "markdown",
   "metadata": {},
   "source": [
    "# Test random output distribution"
   ]
  },
  {
   "cell_type": "code",
   "execution_count": null,
   "metadata": {},
   "outputs": [],
   "source": [
    "import random\n",
    "\n",
    "dist = []\n",
    "n = 6\n",
    "for i in range(100000):\n",
    "    choice = random.sample(range(d.shape[0]), n)\n",
    "    bad = True\n",
    "    while bad:\n",
    "        bad = False\n",
    "        for k in range(len(choice)):\n",
    "            for l in range(k):\n",
    "                if np.abs(cor[choice[k]][choice[l]]) > 0.75:\n",
    "                    bad = True\n",
    "                    break\n",
    "            if bad:\n",
    "                break\n",
    "        if bad:\n",
    "            choice = random.sample(range(d.shape[0]), n)\n",
    "\n",
    "    s = d[choice].sum(axis=0)\n",
    "    s = s / n\n",
    "    m = s.mean()\n",
    "    s = s / m\n",
    "    x = np.arange(len(s)) + 1\n",
    "    a, b = np.polyfit(x, np.log(s), 1)\n",
    "    y = np.exp(a * x + b)\n",
    "\n",
    "    # reg times\n",
    "    last = s[0] < y[0]\n",
    "    reg = 0\n",
    "    regDist = [0]\n",
    "    for i in range(1, len(s)):\n",
    "        if (s[i] < y[i]) != last:\n",
    "            regDist.append(i)\n",
    "            reg += 1\n",
    "            last = s[i] < y[i]\n",
    "\n",
    "    # reg distribution\n",
    "    regDist = np.array(regDist)\n",
    "    regStd = (regDist[1:] - regDist[:-1]).std()\n",
    "    dist.append(regStd)\n",
    "    \n",
    "pandas.DataFrame(dist).hist(bins=1000)\n",
    "pandas.qcut(dist,  [0, 0.05, 0.1, 0.25, 0.5, 0.75, 1])"
   ]
  },
  {
   "cell_type": "markdown",
   "metadata": {},
   "source": [
    "# Load Weekly data and clean into d.csv"
   ]
  },
  {
   "cell_type": "code",
   "execution_count": null,
   "metadata": {
    "scrolled": true
   },
   "outputs": [],
   "source": [
    "%matplotlib inline\n",
    "import pandas\n",
    "from glob import glob\n",
    "import numpy as np\n",
    "\n",
    "df = None\n",
    "for f in glob('D:\\\\work\\\\main\\\\IB\\\\*_week.csv'):\n",
    "    if df is None:\n",
    "        df = pandas.read_csv(f, index_col=0).T\n",
    "    else:\n",
    "        df = pandas.concat([df,pandas.read_csv(f, index_col=0).T], axis=1)\n",
    "\n",
    "d = df.iloc[-112:-1,:]\n",
    "d = d.dropna(axis=1,how='any').astype('float32').T\n",
    "d.to_csv('d.csv')"
   ]
  },
  {
   "cell_type": "markdown",
   "metadata": {},
   "source": [
    "# Load Daily data"
   ]
  },
  {
   "cell_type": "code",
   "execution_count": null,
   "metadata": {},
   "outputs": [],
   "source": [
    "from glob import glob\n",
    "%matplotlib inline\n",
    "import pandas\n",
    "import numpy as np\n",
    "from matplotlib import pyplot as plt\n",
    "\n",
    "daily = None\n",
    "for f in glob('D:\\\\work\\\\main\\\\IB\\\\*_day.csv'):\n",
    "    if daily is None:\n",
    "        daily = pandas.read_csv(f, index_col=0).T\n",
    "    else:\n",
    "        daily = pandas.concat([daily,pandas.read_csv(f, index_col=0).T], axis=1)\n",
    "daily.to_csv('day.csv')"
   ]
  },
  {
   "cell_type": "markdown",
   "metadata": {},
   "source": [
    "# Test by day data"
   ]
  },
  {
   "cell_type": "code",
   "execution_count": null,
   "metadata": {},
   "outputs": [],
   "source": [
    "from glob import glob\n",
    "daily = pandas.read_csv('day.csv', index_col=0)[columns].T\n",
    "print(columns)\n",
    "moneyNeeded = 100 / (p[idx]/p[idx].sum()/daily.T.iloc[-1,:].values)[2]\n",
    "tobuy = np.round(moneyNeeded * p[idx]/p[idx].sum() /  daily.T.iloc[-1,:].values)\n",
    "moneyNeeded = tobuy * daily.T.iloc[-1,:].values\n",
    "print('shares ', str(tobuy), tobuy.sum(), moneyNeeded)\n",
    "moneyNeeded = moneyNeeded.sum()\n",
    "print(moneyNeeded)\n",
    "\n",
    "a = daily.iloc[:, :-1]\n",
    "b = daily.iloc[:, 1:]\n",
    "a.columns = b.columns\n",
    "r = ((b / a - 1).T * p[idx] ).T\n",
    "print(r.shape)\n",
    "\n",
    "dates = daily.columns.astype(np.float32)\n",
    "dates = np.round((dates - startDate) / 3600 / 24 / 1000) / 7 + 1\n",
    "base = 10.4\n",
    "r = np.concatenate((np.ones([r.shape[0], 1]) * base,\n",
    "                    np.add.accumulate(r, axis=1) + np.ones(r.shape) * base), axis=1).T\n",
    "r = pandas.DataFrame(r)\n",
    "r.columns = columns\n",
    "r.index = dates\n",
    "r.plot(figsize=(16,9))\n",
    "\n",
    "y = np.exp(A * dates + B) * moneyNeeded / 10\n",
    "y2 = r.sum(axis=1) / len(columns) * moneyNeeded / 10\n",
    "plt.figure(figsize=(16,9))\n",
    "plt.plot(dates, y)\n",
    "plt.plot(dates, y2)\n",
    "#plt.plot(111, np.exp(A * 111 + B), marker='o', color='r', ls='')\n",
    "#y2[-1] / y[-1] - 1"
   ]
  }
 ],
 "metadata": {
  "kernelspec": {
   "display_name": "Python 3",
   "language": "python",
   "name": "python3"
  },
  "language_info": {
   "codemirror_mode": {
    "name": "ipython",
    "version": 3
   },
   "file_extension": ".py",
   "mimetype": "text/x-python",
   "name": "python",
   "nbconvert_exporter": "python",
   "pygments_lexer": "ipython3",
   "version": "3.6.2"
  }
 },
 "nbformat": 4,
 "nbformat_minor": 2
}
