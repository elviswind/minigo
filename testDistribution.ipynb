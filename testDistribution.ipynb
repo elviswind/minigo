{
 "cells": [
  {
   "cell_type": "code",
   "execution_count": 1,
   "metadata": {},
   "outputs": [],
   "source": [
    "%matplotlib inline\n",
    "import pandas\n",
    "import numpy as np\n",
    "df = pandas.read_csv('d.csv', index_col=0)\n",
    "d = df.as_matrix()"
   ]
  },
  {
   "cell_type": "code",
   "execution_count": null,
   "metadata": {
    "scrolled": false
   },
   "outputs": [],
   "source": [
    "data = []\n",
    "n = 10\n",
    "for i in range(100000):\n",
    "    choice = np.random.choice(d.shape[0], n)\n",
    "    s = d[choice].sum(axis=0)\n",
    "    s = s / n\n",
    "    m = s.mean()\n",
    "    last = s[0] < m\n",
    "    reg = 0\n",
    "    for i in range(1, len(s)):\n",
    "        if (s[i] < m) != last:\n",
    "            reg+=1\n",
    "            last = s[i] < m\n",
    "    score = reg\n",
    "    if score >= 30:\n",
    "        print(choice, score)\n",
    "        print(df.index[choice])\n",
    "    data.append(score)\n",
    "    \n",
    "pandas.DataFrame(data).hist(bins=100)"
   ]
  },
  {
   "cell_type": "code",
   "execution_count": null,
   "metadata": {},
   "outputs": [],
   "source": [
    "%matplotlib inline\n",
    "import pandas\n",
    "from glob import glob\n",
    "import numpy as np\n",
    "\n",
    "df = None\n",
    "t = 'week'\n",
    "for a in glob('C:\\\\Users\\\\peter\\\\Documents\\\\main\\\\IB\\\\*_' + t + '.csv'):\n",
    "    if df is None:\n",
    "        df = pandas.read_csv(a, index_col=0).T\n",
    "    else:\n",
    "        df = pandas.concat([df,pandas.read_csv(a, index_col=0).T], axis=1)\n",
    "\n",
    "if t == 'week':\n",
    "    d = df.iloc[-111:-1,:]\n",
    "    d = d.dropna(axis=1,how='any').astype('float32')\n",
    "else:\n",
    "    d = df\n",
    "    \n",
    "mx = d.max(axis=0)\n",
    "mi = d.min(axis=0)\n",
    "p = 1 / (mx - mi)\n",
    "d = ((d - mi) * p + np.ones(p.shape)).T\n",
    "\n",
    "if t == 'week':\n",
    "    d.to_csv('d.csv')\n",
    "    pandas.DataFrame(p).to_csv('p.csv')\n"
   ]
  },
  {
   "cell_type": "code",
   "execution_count": 4,
   "metadata": {},
   "outputs": [
    {
     "name": "stdout",
     "output_type": "stream",
     "text": [
      "[500, 417, 604, 65, 778, 291, 53, 720, 924, 139]\n",
      "(110,)\n",
      "14.635475265454549\n",
      "4 14.730353899999999 14.497084699999998\n",
      "6 14.3185814 14.6587281\n",
      "9 14.752329200000002 14.226280599999999\n",
      "13 14.355323399999998 14.9533299\n",
      "14 14.8545243 14.355323399999998\n",
      "15 14.4815032 14.8545243\n",
      "16 14.721908200000001 14.4815032\n",
      "19 14.499815300000002 14.663356499999999\n",
      "20 14.703101299999998 14.499815300000002\n",
      "24 14.541561399999999 14.8320518\n",
      "27 15.070609 14.5812136\n",
      "29 14.4531622 14.8885306\n",
      "37 14.8747239 14.3580282\n",
      "38 14.581249300000003 14.8747239\n",
      "39 14.771212400000001 14.581249300000003\n",
      "40 14.6330472 14.771212400000001\n",
      "41 14.855818000000001 14.6330472\n",
      "42 14.4381884 14.855818000000001\n",
      "45 14.840793300000001 14.592318800000001\n",
      "52 14.418581699999999 14.8954255\n",
      "53 14.9064256 14.418581699999999\n",
      "58 14.536983 14.764605600000003\n",
      "71 14.6691192 14.6225627\n",
      "72 14.635219400000002 14.6691192\n",
      "77 14.6485266 14.3141566\n",
      "78 14.4073371 14.6485266\n",
      "79 14.748782 14.4073371\n",
      "81 14.6160069 14.754303899999998\n",
      "82 14.680930300000002 14.6160069\n",
      "83 14.1665877 14.680930300000002\n",
      "85 14.6420201 14.4325399\n",
      "86 14.379979899999999 14.6420201\n",
      "88 15.027211200000002 14.4755017\n",
      "89 14.5697863 15.027211200000002\n",
      "91 14.8145249 14.4231669\n",
      "98 14.019491200000001 15.242180999999999\n",
      "99 14.855269300000002 14.019491200000001\n",
      "104 14.44917 15.154828499999999\n",
      "105 15.2204996 14.44917\n"
     ]
    },
    {
     "data": {
      "text/plain": [
       "39"
      ]
     },
     "execution_count": 4,
     "metadata": {},
     "output_type": "execute_result"
    },
    {
     "data": {
      "image/png": "[encoded data removed]",
      "text/plain": [
       "<matplotlib.figure.Figure at 0x1be7dbd2240>"
      ]
     },
     "metadata": {},
     "output_type": "display_data"
    }
   ],
   "source": [
    "got = ['Liberty Broadband Corporation', '休曼纳', '诺基亚', 'Anthem Inc',\n",
    "       'Spirit Realty Capital', 'EQT corp', '艾佛里管理公司', 'RSP Permian Inc',\n",
    "       'Whiting Petroleum Corp', '康尼格拉']\n",
    "idx = []\n",
    "for g in got:\n",
    "    idx.append(list(df.index).index(g))\n",
    "    \n",
    "print(idx)\n",
    "#rounded = np.round(p[idx] / p[idx].min())\n",
    "#print(rounded)   \n",
    "\n",
    "sums = (df.T[got]).sum(axis=1)\n",
    "print(sums.shape)\n",
    "sums.plot()\n",
    "s = sums.as_matrix()\n",
    "\n",
    "m = s.mean()\n",
    "print(m)\n",
    "last = s[0] < m\n",
    "reg = 0\n",
    "for i in range(1, len(s)):\n",
    "    if (s[i] < m) != last:\n",
    "        print(i, s[i], s[i-1])\n",
    "        reg+=1\n",
    "        last = s[i] < m\n",
    "\n",
    "reg"
   ]
  }
 ],
 "metadata": {
  "kernelspec": {
   "display_name": "Python 3",
   "language": "python",
   "name": "python3"
  },
  "language_info": {
   "codemirror_mode": {
    "name": "ipython",
    "version": 3
   },
   "file_extension": ".py",
   "mimetype": "text/x-python",
   "name": "python",
   "nbconvert_exporter": "python",
   "pygments_lexer": "ipython3",
   "version": "3.6.2"
  }
 },
 "nbformat": 4,
 "nbformat_minor": 2
}
