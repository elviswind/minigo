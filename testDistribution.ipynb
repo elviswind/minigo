{
 "cells": [
  {
   "cell_type": "code",
   "execution_count": null,
   "metadata": {},
   "outputs": [],
   "source": [
    "%matplotlib inline\n",
    "import pandas\n",
    "import numpy as np\n",
    "df = pandas.read_csv('d.csv', index_col=0)\n",
    "\n",
    "a = df.iloc[:, :-1]\n",
    "b = df.iloc[:, 1:]\n",
    "b.columns = a.columns = range(df.shape[1] - 1)\n",
    "r = (b - a) / a\n",
    "p = 1 / np.linalg.norm(r, axis=1)\n",
    "r = (r.T * p).T.as_matrix()\n",
    "l = r.shape[0]\n",
    "cor = np.ones([l, l])\n",
    "for i in range(l):\n",
    "    for j in range(i + 1, l):\n",
    "        s = (r[i] * r[j]).sum()\n",
    "        cor[i][j] = s\n",
    "        cor[j][i] = s\n",
    "        \n",
    "d = df.as_matrix().astype(np.float32)"
   ]
  },
  {
   "cell_type": "code",
   "execution_count": null,
   "metadata": {},
   "outputs": [],
   "source": [
    "d"
   ]
  },
  {
   "cell_type": "code",
   "execution_count": null,
   "metadata": {
    "scrolled": false
   },
   "outputs": [],
   "source": [
    "import random\n",
    "def findDist(n):\n",
    "    data = []\n",
    "    for i in range(100000):\n",
    "        choice = random.sample(range(d.shape[0]), n)\n",
    "        bad = True\n",
    "        while bad:\n",
    "            bad = False\n",
    "            for k in range(n):\n",
    "                for l in range(k):\n",
    "                    if np.abs(cor[k][l]) > 0.75:\n",
    "                        bad = True\n",
    "                        break\n",
    "                if bad:\n",
    "                    break\n",
    "            if bad:\n",
    "                choice = random.sample(range(d.shape[0]), n)    \n",
    "                \n",
    "        s = d[choice].sum(axis=0)\n",
    "        s = s / n\n",
    "        m = s.mean()\n",
    "        last = s[0] < m\n",
    "        reg = 0\n",
    "        for i in range(1, len(s)):\n",
    "            if (s[i] < m) != last:\n",
    "                reg+=1\n",
    "                last = s[i] < m\n",
    "        score = reg\n",
    "        \n",
    "        if score >= 35:\n",
    "            print(sorted(choice), score)\n",
    "            #print(df.index[choice])\n",
    "        data.append(score)\n",
    "        \n",
    "    return data\n",
    "    \n",
    "x = findDist(5)\n",
    "    \n",
    "#pandas.DataFrame(findDist(5)).hist(bins=100)"
   ]
  },
  {
   "cell_type": "code",
   "execution_count": null,
   "metadata": {
    "collapsed": true
   },
   "outputs": [],
   "source": [
    "%matplotlib inline\n",
    "import pandas\n",
    "from glob import glob\n",
    "import numpy as np\n",
    "\n",
    "df = None\n",
    "t = 'week'\n",
    "for a in glob('C:\\\\Users\\\\peter\\\\Documents\\\\main\\\\IB\\\\*_' + t + '.csv'):\n",
    "    if df is None:\n",
    "        df = pandas.read_csv(a, index_col=0).T\n",
    "    else:\n",
    "        df = pandas.concat([df,pandas.read_csv(a, index_col=0).T], axis=1)\n",
    "\n",
    "if t == 'week':\n",
    "    d = df.iloc[-111:-1,:]\n",
    "    d = d.dropna(axis=1,how='any').astype('float32')\n",
    "else:\n",
    "    d = df\n",
    "    \n",
    "mx = d.max(axis=0)\n",
    "mi = d.min(axis=0)\n",
    "p = 1 / (mx - mi)\n",
    "d = ((d - mi) * p + np.ones(p.shape)).T\n",
    "\n",
    "if t == 'week':\n",
    "    d.to_csv('d.csv')\n",
    "    pandas.DataFrame(p).to_csv('p.csv')\n"
   ]
  },
  {
   "cell_type": "code",
   "execution_count": null,
   "metadata": {
    "collapsed": true
   },
   "outputs": [],
   "source": [
    "got = ['迈克高仕', '埃克斯资本', '拜玛林制药', 'FMC Corp.', 'L Brands Inc']\n",
    "idx = []\n",
    "for g in got:\n",
    "    idx.append(list(df.index).index(g))\n",
    "    \n",
    "print(idx)\n",
    "#rounded = np.round(p[idx] / p[idx].min())\n",
    "#print(rounded)   \n",
    "\n",
    "sums = (df.T[got]).sum(axis=1)\n",
    "print(sums.shape)\n",
    "sums.plot()\n",
    "s = sums.as_matrix()\n",
    "\n",
    "m = s.mean()\n",
    "print(m)\n",
    "last = s[0] < m\n",
    "reg = 0\n",
    "for i in range(1, len(s)):\n",
    "    if (s[i] < m) != last:\n",
    "        print(i, s[i], s[i-1])\n",
    "        reg+=1\n",
    "        last = s[i] < m\n",
    "\n",
    "reg"
   ]
  }
 ],
 "metadata": {
  "kernelspec": {
   "display_name": "Python 3",
   "language": "python",
   "name": "python3"
  },
  "language_info": {
   "codemirror_mode": {
    "name": "ipython",
    "version": 3
   },
   "file_extension": ".py",
   "mimetype": "text/x-python",
   "name": "python",
   "nbconvert_exporter": "python",
   "pygments_lexer": "ipython3",
   "version": "3.6.1"
  }
 },
 "nbformat": 4,
 "nbformat_minor": 2
}
