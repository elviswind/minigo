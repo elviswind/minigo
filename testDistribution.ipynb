{
 "cells": [
  {
   "cell_type": "code",
   "execution_count": 20,
   "metadata": {},
   "outputs": [],
   "source": [
    "import pandas\n",
    "import numpy as np\n",
    "df = pandas.read_csv('d.csv', index_col=0)\n",
    "ndf = np.ones((df.shape[0],df.shape[1]+1)).astype(np.float32)\n",
    "for i in range(1, ndf.shape[1]):\n",
    "    ndf[:,i] = ndf[:,i-1] * (df[str(i-1)] +1)"
   ]
  },
  {
   "cell_type": "code",
   "execution_count": 69,
   "metadata": {},
   "outputs": [
    {
     "data": {
      "text/plain": [
       "array([[<matplotlib.axes._subplots.AxesSubplot object at 0x0000024DC0B39E10>]],\n",
       "      dtype=object)"
      ]
     },
     "execution_count": 69,
     "metadata": {},
     "output_type": "execute_result"
    },
    {
     "data": {
      "image/png": "[encoded data removed]",
      "text/plain": [
       "<matplotlib.figure.Figure at 0x24dc0b061d0>"
      ]
     },
     "metadata": {},
     "output_type": "display_data"
    }
   ],
   "source": [
    "data = []\n",
    "for i in range(100000):\n",
    "    choice = np.random.choice(ndf.shape[0], 10)\n",
    "    s = ndf[choice].sum(axis=0)\n",
    "    s = s/s[0]\n",
    "    x = np.arange(ndf.shape[1])\n",
    "    (a,b) = np.polyfit(x, s, 1)\n",
    "    y = x * a + b\n",
    "    mse = ((y - s) ** 2).sum() / ndf.shape[1]\n",
    "    data.append(mse)\n",
    "    \n",
    "pandas.DataFrame(data).hist(bins=1000)"
   ]
  },
  {
   "cell_type": "code",
   "execution_count": 61,
   "metadata": {},
   "outputs": [
    {
     "data": {
      "text/plain": [
       "array(['Realogy Holdings', '金矿指数三倍做空ETF', '债券指数ETF-Vanguard美国', '莫库酒业',\n",
       "       '三倍做空天然气ETN(VelocityShares)', 'JPMorgan Alerian MLP ETN',\n",
       "       'First Republic Bank San Francisc', 'H&R Block Inc', '雅典娜',\n",
       "       'Velocitysharestm 3X Long Silver'], dtype=object)"
      ]
     },
     "execution_count": 61,
     "metadata": {},
     "output_type": "execute_result"
    }
   ],
   "source": [
    "np.array(df.index)[[723 ,480, 123, 816, 241 , 55 ,360 ,414,  80 ,887]]"
   ]
  }
 ],
 "metadata": {
  "kernelspec": {
   "display_name": "Python 3",
   "language": "python",
   "name": "python3"
  },
  "language_info": {
   "codemirror_mode": {
    "name": "ipython",
    "version": 3
   },
   "file_extension": ".py",
   "mimetype": "text/x-python",
   "name": "python",
   "nbconvert_exporter": "python",
   "pygments_lexer": "ipython3",
   "version": "3.6.2"
  }
 },
 "nbformat": 4,
 "nbformat_minor": 2
}
