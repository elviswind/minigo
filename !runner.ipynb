{
 "cells": [
  {
   "cell_type": "code",
   "execution_count": 5,
   "metadata": {},
   "outputs": [
    {
     "name": "stdout",
     "output_type": "stream",
     "text": [
      "-1USDTRY\n"
     ]
    },
    {
     "data": {
      "text/plain": [
       "(array([  0,   1,   2,   3,   4,   5,   6,   7,   8,   9,  10,  11,  12,\n",
       "         13,  14,  15,  16,  17,  18,  19,  20,  21,  22,  23,  24,  25,\n",
       "         26,  27,  28,  29,  30,  31,  32,  33,  34,  35,  36,  37,  38,\n",
       "         39,  40,  41,  42,  43,  44,  45,  46,  47,  48,  49,  50,  51,\n",
       "         52,  53,  54,  55,  56,  57,  58,  59,  60,  61,  62,  63,  64,\n",
       "         65,  66,  67,  68,  69,  70,  71,  72,  73,  74,  75,  76,  77,\n",
       "         78,  79,  80,  81,  82,  83,  84,  85,  86,  87,  88,  89,  90,\n",
       "         91,  92,  93,  94,  95,  96,  97,  98,  99, 100, 101, 102, 103,\n",
       "        104, 105, 106, 107, 108, 109, 110, 111, 112, 113, 114, 115, 116,\n",
       "        117, 118, 119, 120, 121, 122, 123, 124, 125, 126, 127, 128, 129,\n",
       "        130, 131, 132, 133, 134, 135, 136, 137, 138, 139, 140, 141, 142,\n",
       "        143, 144, 145, 146, 147, 148, 149, 150, 151, 152, 153, 154, 155,\n",
       "        156, 157, 158, 159, 160, 161, 162, 163, 164, 165, 166, 167, 168,\n",
       "        169, 170, 171, 172, 173, 174, 175, 176, 177, 178, 179, 180, 181,\n",
       "        182, 183, 184, 185, 186, 187, 188, 189, 190, 191, 192, 193, 194,\n",
       "        195, 196, 197, 198, 199, 200, 201, 202, 203, 204, 205, 206, 207,\n",
       "        208, 209, 210, 211, 212, 213, 214, 215, 216, 217, 218, 219, 220,\n",
       "        221, 222, 223, 224, 225, 226, 227, 228, 229, 230, 231, 232, 233,\n",
       "        234, 235, 236, 344], dtype=int64),)"
      ]
     },
     "execution_count": 5,
     "metadata": {},
     "output_type": "execute_result"
    }
   ],
   "source": [
    "import numpy as np\n",
    "import pandas\n",
    "\n",
    "df = pandas.read_csv('d.csv', index_col=0)\n",
    "d = df.as_matrix().astype(np.float32)\n",
    "d = np.concatenate([d, d * -1], axis=0)\n",
    "names = df.index\n",
    "names = list(names) + ['-1' + n for n in names]\n",
    "M = len(d) + 1\n",
    "N = d.shape[1]\n",
    "EMPTY_BOARD = np.zeros([N], dtype=np.float32)\n",
    "\n",
    "\n",
    "selected = np.zeros([M], dtype=np.int8)\n",
    "selected[235] = 1\n",
    "print(names[235])\n",
    "\n",
    "legal_moves = np.ones([M], dtype=np.int8)\n",
    "arr = np.where(selected[:-1] == 1)[0]\n",
    "if len(arr) > 0:\n",
    "    legal_moves[:arr[-1] + 1] = 0\n",
    "\n",
    "for a in arr:\n",
    "    if a < M / 2:\n",
    "        legal_moves[int(a + M / 2)] = 0\n",
    "    elif a >= M / 2:\n",
    "        legal_moves[int(a - M / 2)] = 0\n",
    "\n",
    "if len(arr) < 5:\n",
    "    legal_moves[-1] = 0\n",
    "\n",
    "forex = 66\n",
    "for a in arr:\n",
    "    if a < forex:\n",
    "        b = names[a][:3]\n",
    "        c = names[a][-3:]\n",
    "        for i in range(forex):\n",
    "            if b in names[i] or c in names[i]:\n",
    "                legal_moves[i] = 0\n",
    "                legal_moves[int(i + M / 2)] = 0\n",
    "    elif a < forex + M / 2 and a >= (M - 1) / 2:\n",
    "        b = names[a][2:5]\n",
    "        c = names[a][-3:]\n",
    "        for i in range(forex):\n",
    "            if b in names[int(i + M / 2)] or c in names[int(i + M / 2)]:\n",
    "                legal_moves[i] = 0\n",
    "                legal_moves[int(i + M / 2)] = 0\n",
    "                \n",
    "                \n",
    "np.where(legal_moves == 0)"
   ]
  }
 ],
 "metadata": {
  "kernelspec": {
   "display_name": "Python 3",
   "language": "python",
   "name": "python3"
  },
  "language_info": {
   "codemirror_mode": {
    "name": "ipython",
    "version": 3
   },
   "file_extension": ".py",
   "mimetype": "text/x-python",
   "name": "python",
   "nbconvert_exporter": "python",
   "pygments_lexer": "ipython3",
   "version": "3.6.2"
  }
 },
 "nbformat": 4,
 "nbformat_minor": 2
}
